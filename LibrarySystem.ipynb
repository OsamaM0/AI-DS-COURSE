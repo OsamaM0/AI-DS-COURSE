{
  "nbformat": 4,
  "nbformat_minor": 0,
  "metadata": {
    "colab": {
      "provenance": []
    },
    "kernelspec": {
      "name": "python3",
      "display_name": "Python 3"
    },
    "language_info": {
      "name": "python"
    }
  },
  "cells": [
    {
      "cell_type": "code",
      "execution_count": 14,
      "metadata": {
        "id": "1eEhfCn1P9vx",
        "colab": {
          "base_uri": "https://localhost:8080/"
        },
        "outputId": "1abaefe9-8e3b-44ec-e0ef-3978f594236a"
      },
      "outputs": [
        {
          "output_type": "stream",
          "name": "stdout",
          "text": [
            "the Book python is sold to ali by abdulrahman\n",
            "the Book python is add to basket\n",
            "the python is not found\n"
          ]
        }
      ],
      "source": [
        "\n",
        "class Book:\n",
        "    def __init__(self, title, author, price):\n",
        "        self.title = title\n",
        "        self.author = author\n",
        "        self.price = price\n",
        "\n",
        "class Person:\n",
        "    def __init__(self, name ,):\n",
        "        self.name = name\n",
        "\n",
        "\n",
        "class Admin(Person):\n",
        "    def __init__(self, name ):\n",
        "        super().__init__(name)\n",
        "        self.addbook = []\n",
        "    def addBook(self , book) :\n",
        "        self.addbook.append(book)\n",
        "    def sellBook(self , book ,Customer ):\n",
        "        if book in self.addbook :\n",
        "            self.addbook.remove(book)\n",
        "            print(f\"the Book {book.title} is sold to {Customer.name} by {self.name}\")\n",
        "        else :\n",
        "            print(f\"the {book.title} is not found\")\n",
        "class Customer (Person):\n",
        "    def __init__(self, name):\n",
        "        super().__init__(name)\n",
        "        self.Books=[]\n",
        "    def BuyBooks (self , book):\n",
        "        self.Books.append(book)\n",
        "        print(f\"the Book {book.title} is add to basket\")\n",
        "\n",
        "admin = Admin(\"abdulrahman\")\n",
        "customer = Customer(\"ali\")\n",
        "customer2 = Customer(\"alo\")\n",
        "book = Book(\"python\" , \"abdu\" , 100)\n",
        "\n",
        "admin.addBook(book)\n",
        "admin.sellBook(book , customer)\n",
        "customer.BuyBooks(book)\n",
        "admin.sellBook(book , customer2)"
      ]
    },
    {
      "cell_type": "code",
      "source": [],
      "metadata": {
        "id": "NjSZ0NMVXq3f"
      },
      "execution_count": null,
      "outputs": []
    }
  ]
}